{
  "nbformat": 4,
  "nbformat_minor": 0,
  "metadata": {
    "colab": {
      "provenance": []
    },
    "kernelspec": {
      "name": "python3",
      "display_name": "Python 3"
    },
    "language_info": {
      "name": "python"
    }
  },
  "cells": [
    {
      "cell_type": "markdown",
      "source": [
        "## \"to_gbq\" é utilizada para enviar nosso dataframe do google collab para o Big Query, \"auth\" para nos autenticarmos, \"bigquery\" para instanciarmos o nosso client, e \"pd\" para tratarmos o dado no nosso exemplo.\n"
      ],
      "metadata": {
        "id": "6vma0jkI_NG9"
      }
    },
    {
      "cell_type": "code",
      "execution_count": 15,
      "metadata": {
        "colab": {
          "base_uri": "https://localhost:8080/"
        },
        "id": "EpusH9BV7-UN",
        "outputId": "16ada187-1983-478d-b706-8be8b2345b23"
      },
      "outputs": [
        {
          "output_type": "stream",
          "name": "stdout",
          "text": [
            "Authenticated\n"
          ]
        }
      ],
      "source": [
        "from pandas_gbq import to_gbq\n",
        "from google.colab import auth\n",
        "from google.cloud import bigquery\n",
        "import pandas as pd\n",
        "\n",
        "auth.authenticate_user()\n",
        "print('Authenticated')"
      ]
    },
    {
      "cell_type": "markdown",
      "source": [
        "# Instaciando nosso client"
      ],
      "metadata": {
        "id": "8bsnSszd_ybk"
      }
    },
    {
      "cell_type": "code",
      "source": [
        "client = bigquery.Client(project='future-graph-401118')"
      ],
      "metadata": {
        "id": "yvI1oIsm9I3P"
      },
      "execution_count": 6,
      "outputs": []
    },
    {
      "cell_type": "markdown",
      "source": [
        "# Precisaremos usar o id do nosso projeto, o nome do dataset e qual tabela iremos salvar em uma dataframe pandas."
      ],
      "metadata": {
        "id": "Zd1a4AXeBYyq"
      }
    },
    {
      "cell_type": "code",
      "source": [
        "project_id = 'future-graph-401118'\n",
        "dataset_id = 'canizela_nba'\n",
        "table_id = 'draft_picks_from_duke_1'"
      ],
      "metadata": {
        "id": "eplvAXuDBXcP"
      },
      "execution_count": null,
      "outputs": []
    },
    {
      "cell_type": "code",
      "source": [
        "# Criando a query e transformando-a em um dataframe pandas."
      ],
      "metadata": {
        "id": "OC-tkf5cBsJV"
      },
      "execution_count": 18,
      "outputs": []
    },
    {
      "cell_type": "code",
      "source": [
        "query = f\"SELECT * FROM `{project_id}.{dataset_id}.{table_id}`\"\n",
        "\n",
        "\n",
        "df = client.query(query).to_dataframe()"
      ],
      "metadata": {
        "id": "sVd9rSa68Juf"
      },
      "execution_count": 10,
      "outputs": []
    },
    {
      "cell_type": "code",
      "source": [
        "df.info()"
      ],
      "metadata": {
        "colab": {
          "base_uri": "https://localhost:8080/"
        },
        "id": "kBHY0Mej8mgr",
        "outputId": "e236dc53-50a4-4367-cb79-4b70e53feb8f"
      },
      "execution_count": 11,
      "outputs": [
        {
          "output_type": "stream",
          "name": "stdout",
          "text": [
            "<class 'pandas.core.frame.DataFrame'>\n",
            "RangeIndex: 109 entries, 0 to 108\n",
            "Data columns (total 29 columns):\n",
            " #   Column   Non-Null Count  Dtype  \n",
            "---  ------   --------------  -----  \n",
            " 0   Player   109 non-null    object \n",
            " 1   Year     109 non-null    Int64  \n",
            " 2   Rd       109 non-null    Int64  \n",
            " 3   Overall  108 non-null    Int64  \n",
            " 4   From     81 non-null     Int64  \n",
            " 5   To       81 non-null     Int64  \n",
            " 6   G        81 non-null     float64\n",
            " 7   MP       81 non-null     float64\n",
            " 8   FG       81 non-null     float64\n",
            " 9   FGA      81 non-null     float64\n",
            " 10  _3P      74 non-null     float64\n",
            " 11  _3PA     74 non-null     float64\n",
            " 12  FT       81 non-null     float64\n",
            " 13  FTA      81 non-null     float64\n",
            " 14  ORB      78 non-null     float64\n",
            " 15  TRB      81 non-null     float64\n",
            " 16  AST      81 non-null     float64\n",
            " 17  STL      75 non-null     float64\n",
            " 18  BLK      75 non-null     float64\n",
            " 19  TOV      76 non-null     float64\n",
            " 20  PF       81 non-null     float64\n",
            " 21  PTS      81 non-null     float64\n",
            " 22  FG_      81 non-null     float64\n",
            " 23  _3P_     65 non-null     float64\n",
            " 24  FT_      80 non-null     float64\n",
            " 25  MP_G     81 non-null     float64\n",
            " 26  PTS_G    81 non-null     float64\n",
            " 27  TRB_G    81 non-null     float64\n",
            " 28  AST_G    81 non-null     float64\n",
            "dtypes: Int64(5), float64(23), object(1)\n",
            "memory usage: 25.4+ KB\n"
          ]
        }
      ]
    },
    {
      "cell_type": "markdown",
      "source": [
        "# Salvando apenas algumas colunas do nosso dataframe no novo dataframe. Nosso objetivo aqui não é aprofundas no tratamento dos dados e sim mostrar que é possível usarmos python para trabalhar com as tabelas do Big Query."
      ],
      "metadata": {
        "id": "awgTzQvxCJQk"
      }
    },
    {
      "cell_type": "code",
      "source": [
        "new_df = df[[\"Player\", \"Year\", \"Rd\"]]"
      ],
      "metadata": {
        "id": "Td-vpWOO98hv"
      },
      "execution_count": 13,
      "outputs": []
    },
    {
      "cell_type": "code",
      "source": [
        "new_df.info()"
      ],
      "metadata": {
        "colab": {
          "base_uri": "https://localhost:8080/"
        },
        "id": "eYTMNuB9-Hr-",
        "outputId": "00d644fa-9288-410d-a9ed-a23af5fd66b6"
      },
      "execution_count": 14,
      "outputs": [
        {
          "output_type": "stream",
          "name": "stdout",
          "text": [
            "<class 'pandas.core.frame.DataFrame'>\n",
            "RangeIndex: 109 entries, 0 to 108\n",
            "Data columns (total 3 columns):\n",
            " #   Column  Non-Null Count  Dtype \n",
            "---  ------  --------------  ----- \n",
            " 0   Player  109 non-null    object\n",
            " 1   Year    109 non-null    Int64 \n",
            " 2   Rd      109 non-null    Int64 \n",
            "dtypes: Int64(2), object(1)\n",
            "memory usage: 2.9+ KB\n"
          ]
        }
      ]
    },
    {
      "cell_type": "markdown",
      "source": [
        "# Criando o nome da tabela que vamos criar com nosso novo dataframe"
      ],
      "metadata": {
        "id": "hFp7rwn8CO2z"
      }
    },
    {
      "cell_type": "code",
      "source": [
        "new_table_id = 'new_draft_picks_from_duke_1'"
      ],
      "metadata": {
        "id": "_Eg0j6Ju-K-1"
      },
      "execution_count": 16,
      "outputs": []
    },
    {
      "cell_type": "markdown",
      "source": [
        "# Enviando o dataframe para o Big query."
      ],
      "metadata": {
        "id": "t3Oj7pq3CWHE"
      }
    },
    {
      "cell_type": "code",
      "source": [
        "to_gbq(new_df, destination_table=f'{project_id}.{dataset_id}.{new_table_id}', project_id=project_id, if_exists='replace')"
      ],
      "metadata": {
        "colab": {
          "base_uri": "https://localhost:8080/"
        },
        "id": "kA7NJ3A--zQO",
        "outputId": "11990352-f671-44bf-c028-b7bc60929d00"
      },
      "execution_count": 17,
      "outputs": [
        {
          "output_type": "stream",
          "name": "stderr",
          "text": [
            "100%|██████████| 1/1 [00:00<00:00, 7073.03it/s]\n"
          ]
        }
      ]
    }
  ]
}