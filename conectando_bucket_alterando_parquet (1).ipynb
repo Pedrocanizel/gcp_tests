{
  "nbformat": 4,
  "nbformat_minor": 0,
  "metadata": {
    "colab": {
      "provenance": []
    },
    "kernelspec": {
      "name": "python3",
      "display_name": "Python 3"
    },
    "language_info": {
      "name": "python"
    }
  },
  "cells": [
    {
      "cell_type": "markdown",
      "source": [
        "# IMPORTANDO PANDAS E CONECTANDO COM MEU BUCKET"
      ],
      "metadata": {
        "id": "JFkJUamGGNBl"
      }
    },
    {
      "cell_type": "code",
      "source": [
        "import pandas as pd"
      ],
      "metadata": {
        "id": "T4nDjlB__eh4"
      },
      "execution_count": 2,
      "outputs": []
    },
    {
      "cell_type": "code",
      "execution_count": 6,
      "metadata": {
        "id": "AEGFXjcj_RXL"
      },
      "outputs": [],
      "source": [
        "from google.colab import auth\n",
        "from google.cloud import storage\n",
        "\n",
        "# Authenticate with Google Cloud using Colab's built-in service account\n",
        "auth.authenticate_user()\n",
        "\n",
        "# Create a client to interact with Google Cloud Storage\n",
        "client = storage.Client()\n",
        "\n",
        "# Specify your GCS bucket name\n",
        "bucket_name = 'canizela_teste_2'\n",
        "\n",
        "# Access the GCS bucket\n",
        "bucket = client.get_bucket(bucket_name)\n"
      ]
    },
    {
      "cell_type": "markdown",
      "source": [
        "# LENDO MEU PARQUET"
      ],
      "metadata": {
        "id": "j6SOwjUNGUHX"
      }
    },
    {
      "cell_type": "code",
      "source": [
        "df = pd.read_parquet('gs://canizela_teste_2/parquet_test.parquet')"
      ],
      "metadata": {
        "id": "tmqgpFZt_XMZ"
      },
      "execution_count": 17,
      "outputs": []
    },
    {
      "cell_type": "markdown",
      "source": [
        "# ALTERANDO O DF"
      ],
      "metadata": {
        "id": "ZGI9UYlQGI-C"
      }
    },
    {
      "cell_type": "code",
      "source": [
        "df_2 = df[[\"COLUNA_1\", \"COLUNA_2\"]]"
      ],
      "metadata": {
        "id": "f8Id_og7ChUr"
      },
      "execution_count": 18,
      "outputs": []
    },
    {
      "cell_type": "markdown",
      "source": [
        "# APONTANDO ONDE QUERO SALVAR MEU NOVO PARQUET E SALVANDO"
      ],
      "metadata": {
        "id": "PsLXSCabGb_x"
      }
    },
    {
      "cell_type": "code",
      "source": [
        "parquet_file_path = '/content/new_parquet.parquet'"
      ],
      "metadata": {
        "id": "C0ThZ4-5Dbci"
      },
      "execution_count": 26,
      "outputs": []
    },
    {
      "cell_type": "code",
      "source": [
        "df.to_parquet(parquet_file_path)"
      ],
      "metadata": {
        "id": "o_Gw1R8_ELnq"
      },
      "execution_count": 27,
      "outputs": []
    },
    {
      "cell_type": "markdown",
      "source": [
        "# DEFININDO O NOME DO OBJETO NO BUCKET"
      ],
      "metadata": {
        "id": "Xt445EOAGqzh"
      }
    },
    {
      "cell_type": "code",
      "source": [
        "blob_name = parquet_file_path"
      ],
      "metadata": {
        "id": "6TOFxxGBEepo"
      },
      "execution_count": 28,
      "outputs": []
    },
    {
      "cell_type": "markdown",
      "source": [
        "# SUBINDO O ARQUIVO PRO GCP"
      ],
      "metadata": {
        "id": "ajzOHYLrG6ET"
      }
    },
    {
      "cell_type": "code",
      "source": [
        "blob = bucket.blob(blob_name)"
      ],
      "metadata": {
        "id": "NdN3VPZsEiK4"
      },
      "execution_count": 29,
      "outputs": []
    },
    {
      "cell_type": "code",
      "source": [
        "blob.upload_from_filename(parquet_file_path)"
      ],
      "metadata": {
        "id": "xAPciuT4FGGL"
      },
      "execution_count": 30,
      "outputs": []
    }
  ]
}